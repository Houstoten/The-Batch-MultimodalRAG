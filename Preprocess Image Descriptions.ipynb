{
 "cells": [
  {
   "cell_type": "code",
   "execution_count": 1,
   "id": "aa6d1112",
   "metadata": {
    "_cell_guid": "b1076dfc-b9ad-4769-8c92-a6c4dae69d19",
    "_uuid": "8f2839f25d086af736a60e9eeb907d3b93b6e0e5",
    "execution": {
     "iopub.execute_input": "2024-11-18T20:25:21.576498Z",
     "iopub.status.busy": "2024-11-18T20:25:21.576117Z",
     "iopub.status.idle": "2024-11-18T20:25:22.424583Z",
     "shell.execute_reply": "2024-11-18T20:25:22.423766Z"
    },
    "papermill": {
     "duration": 0.85656,
     "end_time": "2024-11-18T20:25:22.426879",
     "exception": false,
     "start_time": "2024-11-18T20:25:21.570319",
     "status": "completed"
    },
    "tags": []
   },
   "outputs": [],
   "source": [
    "# This Python 3 environment comes with many helpful analytics libraries installed\n",
    "# It is defined by the kaggle/python Docker image: https://github.com/kaggle/docker-python\n",
    "# For example, here's several helpful packages to load\n",
    "\n",
    "import numpy as np # linear algebra\n",
    "import pandas as pd # data processing, CSV file I/O (e.g. pd.read_csv)\n",
    "\n",
    "# Input data files are available in the read-only \"../input/\" directory\n",
    "# For example, running this (by clicking run or pressing Shift+Enter) will list all files under the input directory\n",
    "\n",
    "# import os\n",
    "# for dirname, _, filenames in os.walk('/kaggle/input'):\n",
    "#     for filename in filenames:\n",
    "#         print(os.path.join(dirname, filename))\n",
    "\n",
    "# You can write up to 20GB to the current directory (/kaggle/working/) that gets preserved as output when you create a version using \"Save & Run All\" \n",
    "# You can also write temporary files to /kaggle/temp/, but they won't be saved outside of the current session"
   ]
  },
  {
   "cell_type": "code",
   "execution_count": 2,
   "id": "90b637f2",
   "metadata": {
    "execution": {
     "iopub.execute_input": "2024-11-18T20:25:22.436238Z",
     "iopub.status.busy": "2024-11-18T20:25:22.435774Z",
     "iopub.status.idle": "2024-11-18T20:25:40.809428Z",
     "shell.execute_reply": "2024-11-18T20:25:40.808017Z"
    },
    "papermill": {
     "duration": 18.381303,
     "end_time": "2024-11-18T20:25:40.812253",
     "exception": false,
     "start_time": "2024-11-18T20:25:22.430950",
     "status": "completed"
    },
    "tags": []
   },
   "outputs": [
    {
     "name": "stdout",
     "output_type": "stream",
     "text": [
      "\u001b[31mERROR: pip's dependency resolver does not currently take into account all the packages that are installed. This behaviour is the source of the following dependency conflicts.\r\n",
      "google-cloud-bigquery 2.34.4 requires packaging<22.0dev,>=14.3, but you have packaging 24.2 which is incompatible.\r\n",
      "jupyterlab 4.2.5 requires jupyter-lsp>=2.0.0, but you have jupyter-lsp 1.5.1 which is incompatible.\r\n",
      "jupyterlab-lsp 5.1.0 requires jupyter-lsp>=2.0.0, but you have jupyter-lsp 1.5.1 which is incompatible.\r\n",
      "kfp 2.5.0 requires google-cloud-storage<3,>=2.2.1, but you have google-cloud-storage 1.44.0 which is incompatible.\r\n",
      "kfp 2.5.0 requires requests-toolbelt<1,>=0.8.0, but you have requests-toolbelt 1.0.0 which is incompatible.\r\n",
      "libpysal 4.9.2 requires shapely>=2.0.1, but you have shapely 1.8.5.post1 which is incompatible.\r\n",
      "thinc 8.3.2 requires numpy<2.1.0,>=2.0.0; python_version >= \"3.9\", but you have numpy 1.26.4 which is incompatible.\r\n",
      "ydata-profiling 4.10.0 requires scipy<1.14,>=1.4.1, but you have scipy 1.14.1 which is incompatible.\u001b[0m\u001b[31m\r\n",
      "\u001b[0mNote: you may need to restart the kernel to use updated packages.\n"
     ]
    }
   ],
   "source": [
    "pip install -q langchain langchain-community langchain-openai nltk"
   ]
  },
  {
   "cell_type": "code",
   "execution_count": 3,
   "id": "be863a30",
   "metadata": {
    "execution": {
     "iopub.execute_input": "2024-11-18T20:25:40.827761Z",
     "iopub.status.busy": "2024-11-18T20:25:40.827294Z",
     "iopub.status.idle": "2024-11-18T20:25:44.564317Z",
     "shell.execute_reply": "2024-11-18T20:25:44.563322Z"
    },
    "papermill": {
     "duration": 3.74757,
     "end_time": "2024-11-18T20:25:44.566681",
     "exception": false,
     "start_time": "2024-11-18T20:25:40.819111",
     "status": "completed"
    },
    "tags": []
   },
   "outputs": [],
   "source": [
    "from langchain_openai import ChatOpenAI\n",
    "from langchain_core.messages import HumanMessage\n",
    "\n",
    "import nltk\n",
    "from tqdm import tqdm\n",
    "import base64\n",
    "import os\n",
    "from bs4 import BeautifulSoup"
   ]
  },
  {
   "cell_type": "code",
   "execution_count": 4,
   "id": "14e24456",
   "metadata": {
    "execution": {
     "iopub.execute_input": "2024-11-18T20:25:44.576458Z",
     "iopub.status.busy": "2024-11-18T20:25:44.575513Z",
     "iopub.status.idle": "2024-11-18T20:25:45.053527Z",
     "shell.execute_reply": "2024-11-18T20:25:45.052219Z"
    },
    "papermill": {
     "duration": 0.48551,
     "end_time": "2024-11-18T20:25:45.056120",
     "exception": false,
     "start_time": "2024-11-18T20:25:44.570610",
     "status": "completed"
    },
    "tags": []
   },
   "outputs": [],
   "source": [
    "from kaggle_secrets import UserSecretsClient\n",
    "user_secrets = UserSecretsClient()\n",
    "os.environ['OPENAI_API_KEY'] = user_secrets.get_secret(\"OPENAI_KEY\")"
   ]
  },
  {
   "cell_type": "code",
   "execution_count": 5,
   "id": "edd66121",
   "metadata": {
    "execution": {
     "iopub.execute_input": "2024-11-18T20:25:45.065639Z",
     "iopub.status.busy": "2024-11-18T20:25:45.065220Z",
     "iopub.status.idle": "2024-11-18T20:25:45.358484Z",
     "shell.execute_reply": "2024-11-18T20:25:45.357403Z"
    },
    "papermill": {
     "duration": 0.301221,
     "end_time": "2024-11-18T20:25:45.361289",
     "exception": false,
     "start_time": "2024-11-18T20:25:45.060068",
     "status": "completed"
    },
    "tags": []
   },
   "outputs": [
    {
     "data": {
      "text/html": [
       "<div>\n",
       "<style scoped>\n",
       "    .dataframe tbody tr th:only-of-type {\n",
       "        vertical-align: middle;\n",
       "    }\n",
       "\n",
       "    .dataframe tbody tr th {\n",
       "        vertical-align: top;\n",
       "    }\n",
       "\n",
       "    .dataframe thead th {\n",
       "        text-align: right;\n",
       "    }\n",
       "</style>\n",
       "<table border=\"1\" class=\"dataframe\">\n",
       "  <thead>\n",
       "    <tr style=\"text-align: right;\">\n",
       "      <th></th>\n",
       "      <th>Title</th>\n",
       "      <th>Publication_Date</th>\n",
       "      <th>Content</th>\n",
       "    </tr>\n",
       "    <tr>\n",
       "      <th>Url</th>\n",
       "      <th></th>\n",
       "      <th></th>\n",
       "      <th></th>\n",
       "    </tr>\n",
       "  </thead>\n",
       "  <tbody>\n",
       "    <tr>\n",
       "      <th>https://www.deeplearning.ai/the-batch/art-team-sells-robots-painting-for-1-1-million/</th>\n",
       "      <td>Art team sells robot’s painting for $1.1 milli...</td>\n",
       "      <td>Nov 11, 2024</td>\n",
       "      <td>&lt;article class=\"pb-16 bg-white\"&gt;&lt;div class=\"po...</td>\n",
       "    </tr>\n",
       "    <tr>\n",
       "      <th>https://www.deeplearning.ai/the-batch/swe-kit-helps-developers-build-their-own-assistants/</th>\n",
       "      <td>SWE-Kit helps developers build their own assis...</td>\n",
       "      <td>Nov 8, 2024</td>\n",
       "      <td>&lt;article class=\"pb-16 bg-white\"&gt;&lt;div class=\"po...</td>\n",
       "    </tr>\n",
       "    <tr>\n",
       "      <th>https://www.deeplearning.ai/the-batch/tensions-mount-as-automation-transforms-u-s-shipping-port/</th>\n",
       "      <td>Robots On the Loading Dock Tensions mount as a...</td>\n",
       "      <td>Nov 06, 2024</td>\n",
       "      <td>&lt;article class=\"pb-16 bg-white\"&gt;&lt;div class=\"po...</td>\n",
       "    </tr>\n",
       "    <tr>\n",
       "      <th>https://www.deeplearning.ai/the-batch/social-media-bots-and-the-amplification-effect/</th>\n",
       "      <td>Social Media Bots and the Amplification Effect...</td>\n",
       "      <td>Nov 06, 2024</td>\n",
       "      <td>&lt;article class=\"pb-16 bg-white\"&gt;&lt;div class=\"po...</td>\n",
       "    </tr>\n",
       "    <tr>\n",
       "      <th>https://www.deeplearning.ai/the-batch/openais-mle-bench-tests-ai-coding-agents/</th>\n",
       "      <td>When Agents Train Algorithms OpenAI’s MLE-benc...</td>\n",
       "      <td>Nov 06, 2024</td>\n",
       "      <td>&lt;article class=\"pb-16 bg-white\"&gt;&lt;div class=\"po...</td>\n",
       "    </tr>\n",
       "    <tr>\n",
       "      <th>...</th>\n",
       "      <td>...</td>\n",
       "      <td>...</td>\n",
       "      <td>...</td>\n",
       "    </tr>\n",
       "    <tr>\n",
       "      <th>https://www.deeplearning.ai/the-batch/europe-tightens-the-screws/</th>\n",
       "      <td>Europe Tightens the Screws</td>\n",
       "      <td>Apr 17, 2019</td>\n",
       "      <td>&lt;article class=\"pb-16 bg-white\"&gt;&lt;div class=\"po...</td>\n",
       "    </tr>\n",
       "    <tr>\n",
       "      <th>https://www.deeplearning.ai/the-batch/vcs-bet-on-nlp/</th>\n",
       "      <td>VCs Bet on NLP</td>\n",
       "      <td>Apr 17, 2019</td>\n",
       "      <td>&lt;article class=\"pb-16 bg-white\"&gt;&lt;div class=\"po...</td>\n",
       "    </tr>\n",
       "    <tr>\n",
       "      <th>https://www.deeplearning.ai/the-batch/drones-go-commercial/</th>\n",
       "      <td>Drones Go Commercial</td>\n",
       "      <td>Apr 17, 2019</td>\n",
       "      <td>&lt;article class=\"pb-16 bg-white\"&gt;&lt;div class=\"po...</td>\n",
       "    </tr>\n",
       "    <tr>\n",
       "      <th>https://www.deeplearning.ai/the-batch/automatic-annotation/</th>\n",
       "      <td>Automatic Annotation</td>\n",
       "      <td>Apr 17, 2019</td>\n",
       "      <td>&lt;article class=\"pb-16 bg-white\"&gt;&lt;div class=\"po...</td>\n",
       "    </tr>\n",
       "    <tr>\n",
       "      <th>https://www.deeplearning.ai/the-batch/the-robots-are-winning/</th>\n",
       "      <td>The Robots are Winning</td>\n",
       "      <td>Apr 17, 2019</td>\n",
       "      <td>&lt;article class=\"pb-16 bg-white\"&gt;&lt;div class=\"po...</td>\n",
       "    </tr>\n",
       "  </tbody>\n",
       "</table>\n",
       "<p>1654 rows × 3 columns</p>\n",
       "</div>"
      ],
      "text/plain": [
       "                                                                                                Title  \\\n",
       "Url                                                                                                     \n",
       "https://www.deeplearning.ai/the-batch/art-team-...  Art team sells robot’s painting for $1.1 milli...   \n",
       "https://www.deeplearning.ai/the-batch/swe-kit-h...  SWE-Kit helps developers build their own assis...   \n",
       "https://www.deeplearning.ai/the-batch/tensions-...  Robots On the Loading Dock Tensions mount as a...   \n",
       "https://www.deeplearning.ai/the-batch/social-me...  Social Media Bots and the Amplification Effect...   \n",
       "https://www.deeplearning.ai/the-batch/openais-m...  When Agents Train Algorithms OpenAI’s MLE-benc...   \n",
       "...                                                                                               ...   \n",
       "https://www.deeplearning.ai/the-batch/europe-ti...                         Europe Tightens the Screws   \n",
       "https://www.deeplearning.ai/the-batch/vcs-bet-o...                                     VCs Bet on NLP   \n",
       "https://www.deeplearning.ai/the-batch/drones-go...                               Drones Go Commercial   \n",
       "https://www.deeplearning.ai/the-batch/automatic...                               Automatic Annotation   \n",
       "https://www.deeplearning.ai/the-batch/the-robot...                             The Robots are Winning   \n",
       "\n",
       "                                                   Publication_Date  \\\n",
       "Url                                                                   \n",
       "https://www.deeplearning.ai/the-batch/art-team-...     Nov 11, 2024   \n",
       "https://www.deeplearning.ai/the-batch/swe-kit-h...      Nov 8, 2024   \n",
       "https://www.deeplearning.ai/the-batch/tensions-...     Nov 06, 2024   \n",
       "https://www.deeplearning.ai/the-batch/social-me...     Nov 06, 2024   \n",
       "https://www.deeplearning.ai/the-batch/openais-m...     Nov 06, 2024   \n",
       "...                                                             ...   \n",
       "https://www.deeplearning.ai/the-batch/europe-ti...     Apr 17, 2019   \n",
       "https://www.deeplearning.ai/the-batch/vcs-bet-o...     Apr 17, 2019   \n",
       "https://www.deeplearning.ai/the-batch/drones-go...     Apr 17, 2019   \n",
       "https://www.deeplearning.ai/the-batch/automatic...     Apr 17, 2019   \n",
       "https://www.deeplearning.ai/the-batch/the-robot...     Apr 17, 2019   \n",
       "\n",
       "                                                                                              Content  \n",
       "Url                                                                                                    \n",
       "https://www.deeplearning.ai/the-batch/art-team-...  <article class=\"pb-16 bg-white\"><div class=\"po...  \n",
       "https://www.deeplearning.ai/the-batch/swe-kit-h...  <article class=\"pb-16 bg-white\"><div class=\"po...  \n",
       "https://www.deeplearning.ai/the-batch/tensions-...  <article class=\"pb-16 bg-white\"><div class=\"po...  \n",
       "https://www.deeplearning.ai/the-batch/social-me...  <article class=\"pb-16 bg-white\"><div class=\"po...  \n",
       "https://www.deeplearning.ai/the-batch/openais-m...  <article class=\"pb-16 bg-white\"><div class=\"po...  \n",
       "...                                                                                               ...  \n",
       "https://www.deeplearning.ai/the-batch/europe-ti...  <article class=\"pb-16 bg-white\"><div class=\"po...  \n",
       "https://www.deeplearning.ai/the-batch/vcs-bet-o...  <article class=\"pb-16 bg-white\"><div class=\"po...  \n",
       "https://www.deeplearning.ai/the-batch/drones-go...  <article class=\"pb-16 bg-white\"><div class=\"po...  \n",
       "https://www.deeplearning.ai/the-batch/automatic...  <article class=\"pb-16 bg-white\"><div class=\"po...  \n",
       "https://www.deeplearning.ai/the-batch/the-robot...  <article class=\"pb-16 bg-white\"><div class=\"po...  \n",
       "\n",
       "[1654 rows x 3 columns]"
      ]
     },
     "execution_count": 5,
     "metadata": {},
     "output_type": "execute_result"
    }
   ],
   "source": [
    "articles_df = pd.read_csv('/kaggle/input/the-batch-articles-initial/articles_html.csv')\n",
    "articles_df.set_index('Url', inplace=True)\n",
    "articles_df"
   ]
  },
  {
   "cell_type": "code",
   "execution_count": 6,
   "id": "305d9f91",
   "metadata": {
    "execution": {
     "iopub.execute_input": "2024-11-18T20:25:45.372188Z",
     "iopub.status.busy": "2024-11-18T20:25:45.371791Z",
     "iopub.status.idle": "2024-11-18T20:25:45.416777Z",
     "shell.execute_reply": "2024-11-18T20:25:45.415741Z"
    },
    "papermill": {
     "duration": 0.052894,
     "end_time": "2024-11-18T20:25:45.418822",
     "exception": false,
     "start_time": "2024-11-18T20:25:45.365928",
     "status": "completed"
    },
    "tags": []
   },
   "outputs": [
    {
     "data": {
      "text/html": [
       "<div>\n",
       "<style scoped>\n",
       "    .dataframe tbody tr th:only-of-type {\n",
       "        vertical-align: middle;\n",
       "    }\n",
       "\n",
       "    .dataframe tbody tr th {\n",
       "        vertical-align: top;\n",
       "    }\n",
       "\n",
       "    .dataframe thead th {\n",
       "        text-align: right;\n",
       "    }\n",
       "</style>\n",
       "<table border=\"1\" class=\"dataframe\">\n",
       "  <thead>\n",
       "    <tr style=\"text-align: right;\">\n",
       "      <th></th>\n",
       "      <th>URL</th>\n",
       "      <th>Description</th>\n",
       "    </tr>\n",
       "    <tr>\n",
       "      <th>Unnamed: 0</th>\n",
       "      <th></th>\n",
       "      <th></th>\n",
       "    </tr>\n",
       "  </thead>\n",
       "  <tbody>\n",
       "    <tr>\n",
       "      <th>0</th>\n",
       "      <td>swe-kit-helps-developers-build-their-own-assis...</td>\n",
       "      <td>A futuristic scene depicting a human in a suit...</td>\n",
       "    </tr>\n",
       "    <tr>\n",
       "      <th>1</th>\n",
       "      <td>tensions-mount-as-automation-transforms-u-s-sh...</td>\n",
       "      <td>**Summary:** The image depicts a modern shippi...</td>\n",
       "    </tr>\n",
       "    <tr>\n",
       "      <th>2</th>\n",
       "      <td>social-media-bots-and-the-amplification-effect...</td>\n",
       "      <td>A cartoonish yellow robot with a red megaphone...</td>\n",
       "    </tr>\n",
       "    <tr>\n",
       "      <th>3</th>\n",
       "      <td>openais-mle-bench-tests-ai-coding-agents/url_h...</td>\n",
       "      <td>**Summary**: The image illustrates the MLE-ben...</td>\n",
       "    </tr>\n",
       "    <tr>\n",
       "      <th>4</th>\n",
       "      <td>compl-ai-study-measures-llms-compliance-with-e...</td>\n",
       "      <td>**Summary:** The image illustrates the COMPL-A...</td>\n",
       "    </tr>\n",
       "    <tr>\n",
       "      <th>...</th>\n",
       "      <td>...</td>\n",
       "      <td>...</td>\n",
       "    </tr>\n",
       "    <tr>\n",
       "      <th>1357</th>\n",
       "      <td>protein-shapes-revealed/url_https_3A_2F_2Fdl-s...</td>\n",
       "      <td>Diagram illustrating the AlphaFold model for p...</td>\n",
       "    </tr>\n",
       "    <tr>\n",
       "      <th>1358</th>\n",
       "      <td>nowhere-to-hide/url_https_3A_2F_2Fdl-staging-w...</td>\n",
       "      <td>Image summary: The image features Big Ben, a p...</td>\n",
       "    </tr>\n",
       "    <tr>\n",
       "      <th>1359</th>\n",
       "      <td>old-tools-for-new-synths/url_https_3A_2F_2Fdl-...</td>\n",
       "      <td>Diagram illustrating the Differentiable Digita...</td>\n",
       "    </tr>\n",
       "    <tr>\n",
       "      <th>1360</th>\n",
       "      <td>the-best-eay-to-build-s-new-habit/url_https_3A...</td>\n",
       "      <td>A woman in athletic attire performs a push-up ...</td>\n",
       "    </tr>\n",
       "    <tr>\n",
       "      <th>1361</th>\n",
       "      <td>the-problem-with-the-eus-moratorium-on-face-re...</td>\n",
       "      <td>Illustration of a woman's face overlaid with a...</td>\n",
       "    </tr>\n",
       "  </tbody>\n",
       "</table>\n",
       "<p>1362 rows × 2 columns</p>\n",
       "</div>"
      ],
      "text/plain": [
       "                                                          URL  \\\n",
       "Unnamed: 0                                                      \n",
       "0           swe-kit-helps-developers-build-their-own-assis...   \n",
       "1           tensions-mount-as-automation-transforms-u-s-sh...   \n",
       "2           social-media-bots-and-the-amplification-effect...   \n",
       "3           openais-mle-bench-tests-ai-coding-agents/url_h...   \n",
       "4           compl-ai-study-measures-llms-compliance-with-e...   \n",
       "...                                                       ...   \n",
       "1357        protein-shapes-revealed/url_https_3A_2F_2Fdl-s...   \n",
       "1358        nowhere-to-hide/url_https_3A_2F_2Fdl-staging-w...   \n",
       "1359        old-tools-for-new-synths/url_https_3A_2F_2Fdl-...   \n",
       "1360        the-best-eay-to-build-s-new-habit/url_https_3A...   \n",
       "1361        the-problem-with-the-eus-moratorium-on-face-re...   \n",
       "\n",
       "                                                  Description  \n",
       "Unnamed: 0                                                     \n",
       "0           A futuristic scene depicting a human in a suit...  \n",
       "1           **Summary:** The image depicts a modern shippi...  \n",
       "2           A cartoonish yellow robot with a red megaphone...  \n",
       "3           **Summary**: The image illustrates the MLE-ben...  \n",
       "4           **Summary:** The image illustrates the COMPL-A...  \n",
       "...                                                       ...  \n",
       "1357        Diagram illustrating the AlphaFold model for p...  \n",
       "1358        Image summary: The image features Big Ben, a p...  \n",
       "1359        Diagram illustrating the Differentiable Digita...  \n",
       "1360        A woman in athletic attire performs a push-up ...  \n",
       "1361        Illustration of a woman's face overlaid with a...  \n",
       "\n",
       "[1362 rows x 2 columns]"
      ]
     },
     "execution_count": 6,
     "metadata": {},
     "output_type": "execute_result"
    }
   ],
   "source": [
    "df = pd.read_csv('/kaggle/input/the-batch-articles-image-descriptions/image_captions.csv')\n",
    "df.set_index('Unnamed: 0', inplace=True)\n",
    "df"
   ]
  },
  {
   "cell_type": "markdown",
   "id": "5f72884b",
   "metadata": {
    "papermill": {
     "duration": 0.003976,
     "end_time": "2024-11-18T20:25:45.427637",
     "exception": false,
     "start_time": "2024-11-18T20:25:45.423661",
     "status": "completed"
    },
    "tags": []
   },
   "source": [
    "#### Extract urls present"
   ]
  },
  {
   "cell_type": "code",
   "execution_count": 7,
   "id": "d684679b",
   "metadata": {
    "execution": {
     "iopub.execute_input": "2024-11-18T20:25:45.437802Z",
     "iopub.status.busy": "2024-11-18T20:25:45.437365Z",
     "iopub.status.idle": "2024-11-18T20:25:45.444274Z",
     "shell.execute_reply": "2024-11-18T20:25:45.443306Z"
    },
    "papermill": {
     "duration": 0.014517,
     "end_time": "2024-11-18T20:25:45.446199",
     "exception": false,
     "start_time": "2024-11-18T20:25:45.431682",
     "status": "completed"
    },
    "tags": []
   },
   "outputs": [
    {
     "data": {
      "text/plain": [
       "1362"
      ]
     },
     "execution_count": 7,
     "metadata": {},
     "output_type": "execute_result"
    }
   ],
   "source": [
    "present_descriptions = set(df['URL'].to_numpy())\n",
    "len(present_descriptions)"
   ]
  },
  {
   "cell_type": "code",
   "execution_count": 8,
   "id": "47bcf2f2",
   "metadata": {
    "execution": {
     "iopub.execute_input": "2024-11-18T20:25:45.457981Z",
     "iopub.status.busy": "2024-11-18T20:25:45.457625Z",
     "iopub.status.idle": "2024-11-18T20:25:49.798314Z",
     "shell.execute_reply": "2024-11-18T20:25:49.797432Z"
    },
    "papermill": {
     "duration": 4.3494,
     "end_time": "2024-11-18T20:25:49.800492",
     "exception": false,
     "start_time": "2024-11-18T20:25:45.451092",
     "status": "completed"
    },
    "tags": []
   },
   "outputs": [],
   "source": [
    "images_in_dataset = set()\n",
    "for dirname, _, filenames in os.walk('/kaggle/input/the-batch-articles-initial/images_clean'):\n",
    "    for filename in filenames:\n",
    "        images_in_dataset.add(os.path.join(dirname, filename).replace('/kaggle/input/the-batch-articles-initial/images_clean/', ''))\n"
   ]
  },
  {
   "cell_type": "code",
   "execution_count": 9,
   "id": "255f7ca6",
   "metadata": {
    "execution": {
     "iopub.execute_input": "2024-11-18T20:25:49.811704Z",
     "iopub.status.busy": "2024-11-18T20:25:49.810757Z",
     "iopub.status.idle": "2024-11-18T20:25:49.816931Z",
     "shell.execute_reply": "2024-11-18T20:25:49.815904Z"
    },
    "papermill": {
     "duration": 0.013574,
     "end_time": "2024-11-18T20:25:49.818784",
     "exception": false,
     "start_time": "2024-11-18T20:25:49.805210",
     "status": "completed"
    },
    "tags": []
   },
   "outputs": [
    {
     "data": {
      "text/plain": [
       "1608"
      ]
     },
     "execution_count": 9,
     "metadata": {},
     "output_type": "execute_result"
    }
   ],
   "source": [
    "len(images_in_dataset)"
   ]
  },
  {
   "cell_type": "code",
   "execution_count": 10,
   "id": "6e679798",
   "metadata": {
    "execution": {
     "iopub.execute_input": "2024-11-18T20:25:49.829481Z",
     "iopub.status.busy": "2024-11-18T20:25:49.829139Z",
     "iopub.status.idle": "2024-11-18T20:25:49.835707Z",
     "shell.execute_reply": "2024-11-18T20:25:49.834746Z"
    },
    "papermill": {
     "duration": 0.014466,
     "end_time": "2024-11-18T20:25:49.837771",
     "exception": false,
     "start_time": "2024-11-18T20:25:49.823305",
     "status": "completed"
    },
    "tags": []
   },
   "outputs": [
    {
     "data": {
      "text/plain": [
       "246"
      ]
     },
     "execution_count": 10,
     "metadata": {},
     "output_type": "execute_result"
    }
   ],
   "source": [
    "images_to_describe = images_in_dataset - present_descriptions\n",
    "len(images_to_describe)"
   ]
  },
  {
   "cell_type": "code",
   "execution_count": 11,
   "id": "1fd034f4",
   "metadata": {
    "execution": {
     "iopub.execute_input": "2024-11-18T20:25:49.848761Z",
     "iopub.status.busy": "2024-11-18T20:25:49.848286Z",
     "iopub.status.idle": "2024-11-18T20:25:49.856411Z",
     "shell.execute_reply": "2024-11-18T20:25:49.855283Z"
    },
    "papermill": {
     "duration": 0.016052,
     "end_time": "2024-11-18T20:25:49.858552",
     "exception": false,
     "start_time": "2024-11-18T20:25:49.842500",
     "status": "completed"
    },
    "tags": []
   },
   "outputs": [],
   "source": [
    "def encode_image(image_path):\n",
    "    \"\"\"Getting the base64 string\"\"\"\n",
    "    with open(image_path, \"rb\") as image_file:\n",
    "        return base64.b64encode(image_file.read()).decode(\"utf-8\")\n",
    "\n",
    "\n",
    "def image_summarize(img_base64, prompt):\n",
    "    \"\"\"Make image summary\"\"\"\n",
    "    chat = ChatOpenAI(model=\"gpt-4o-mini\", max_tokens=1024)\n",
    "\n",
    "    msg = chat.invoke(\n",
    "        [\n",
    "            HumanMessage(\n",
    "                content=[\n",
    "                    {\"type\": \"text\", \"text\": prompt},\n",
    "                    {\n",
    "                        \"type\": \"image_url\",\n",
    "                        \"image_url\": {\"url\": f\"data:image/jpeg;base64,{img_base64}\"},\n",
    "                    },\n",
    "                ]\n",
    "            )\n",
    "        ]\n",
    "    )\n",
    "    return msg.content\n",
    "\n",
    "\n",
    "def generate_img_summaries(img_file, context=\"\"):\n",
    "    \n",
    "    # Prompt\n",
    "    prompt = f\"\"\"You are an assistant tasked with summarizing images for retrieval. \\\n",
    "    These summaries will be embedded and used to retrieve the raw image. \\\n",
    "    Give a concise summary of the image that is well optimized for retrieval. \\\n",
    "    Consider given context: {context}\"\"\"\n",
    "\n",
    "    # Apply to images\n",
    "    base64_image = encode_image(img_file)\n",
    "\n",
    "    return image_summarize(base64_image, prompt)\n"
   ]
  },
  {
   "cell_type": "code",
   "execution_count": 12,
   "id": "f0a0ce46",
   "metadata": {
    "execution": {
     "iopub.execute_input": "2024-11-18T20:25:49.869613Z",
     "iopub.status.busy": "2024-11-18T20:25:49.868981Z",
     "iopub.status.idle": "2024-11-18T20:25:49.874595Z",
     "shell.execute_reply": "2024-11-18T20:25:49.873640Z"
    },
    "papermill": {
     "duration": 0.013378,
     "end_time": "2024-11-18T20:25:49.876669",
     "exception": false,
     "start_time": "2024-11-18T20:25:49.863291",
     "status": "completed"
    },
    "tags": []
   },
   "outputs": [],
   "source": [
    "def generate_summary_with_context(url):\n",
    "    context = \"\"\n",
    "    \n",
    "    try:\n",
    "        row = articles_df.loc[f'https://www.deeplearning.ai/the-batch/{url.split(\"/\")[0]}/']\n",
    "        soup = BeautifulSoup(row['Content'], \"html.parser\")\n",
    "        context = soup.get_text()\n",
    "    except:\n",
    "        context = \"\"\n",
    "\n",
    "    return generate_img_summaries(f'/kaggle/input/the-batch-articles-initial/images_clean/{url}', context=context)"
   ]
  },
  {
   "cell_type": "code",
   "execution_count": 13,
   "id": "e80e4664",
   "metadata": {
    "execution": {
     "iopub.execute_input": "2024-11-18T20:25:49.887381Z",
     "iopub.status.busy": "2024-11-18T20:25:49.887029Z",
     "iopub.status.idle": "2024-11-18T20:42:22.506847Z",
     "shell.execute_reply": "2024-11-18T20:42:22.505633Z"
    },
    "papermill": {
     "duration": 992.628559,
     "end_time": "2024-11-18T20:42:22.509861",
     "exception": false,
     "start_time": "2024-11-18T20:25:49.881302",
     "status": "completed"
    },
    "tags": []
   },
   "outputs": [
    {
     "name": "stderr",
     "output_type": "stream",
     "text": [
      "100%|██████████| 246/246 [16:32<00:00,  4.04s/it]\n"
     ]
    }
   ],
   "source": [
    "summaries_new = []\n",
    "for url in tqdm(list(images_to_describe)):\n",
    "    summaries_new.append([url, generate_summary_with_context(url)])"
   ]
  },
  {
   "cell_type": "code",
   "execution_count": 14,
   "id": "8eea7c86",
   "metadata": {
    "execution": {
     "iopub.execute_input": "2024-11-18T20:42:22.871054Z",
     "iopub.status.busy": "2024-11-18T20:42:22.870593Z",
     "iopub.status.idle": "2024-11-18T20:42:22.919801Z",
     "shell.execute_reply": "2024-11-18T20:42:22.918815Z"
    },
    "papermill": {
     "duration": 0.389208,
     "end_time": "2024-11-18T20:42:22.922223",
     "exception": false,
     "start_time": "2024-11-18T20:42:22.533015",
     "status": "completed"
    },
    "tags": []
   },
   "outputs": [],
   "source": [
    "summaries_new_np = np.array(summaries_new)\n",
    "\n",
    "df_new = pd.DataFrame(data=summaries_new_np[1:],    \n",
    "            columns=['URL', 'Description'])\n",
    "\n",
    "df_combined = pd.concat([df, df_new], ignore_index=True)\n",
    "df_combined.to_csv('image_captions.csv')"
   ]
  }
 ],
 "metadata": {
  "kaggle": {
   "accelerator": "none",
   "dataSources": [
    {
     "datasetId": 6087672,
     "sourceId": 9940788,
     "sourceType": "datasetVersion"
    },
    {
     "datasetId": 6115081,
     "sourceId": 9944881,
     "sourceType": "datasetVersion"
    }
   ],
   "dockerImageVersionId": 30786,
   "isGpuEnabled": false,
   "isInternetEnabled": true,
   "language": "python",
   "sourceType": "notebook"
  },
  "kernelspec": {
   "display_name": "Python 3.13.0 ('multimodal_rag')",
   "language": "python",
   "name": "python3"
  },
  "language_info": {
   "codemirror_mode": {
    "name": "ipython",
    "version": 3
   },
   "file_extension": ".py",
   "mimetype": "text/x-python",
   "name": "python",
   "nbconvert_exporter": "python",
   "pygments_lexer": "ipython3",
   "version": "3.13.0"
  },
  "papermill": {
   "default_parameters": {},
   "duration": 1025.068115,
   "end_time": "2024-11-18T20:42:24.064025",
   "environment_variables": {},
   "exception": null,
   "input_path": "__notebook__.ipynb",
   "output_path": "__notebook__.ipynb",
   "parameters": {},
   "start_time": "2024-11-18T20:25:18.995910",
   "version": "2.6.0"
  },
  "vscode": {
   "interpreter": {
    "hash": "e130b031cca2db807da1fd18be4ba89848cc264d7243cd1b3e255c1a76b1a744"
   }
  }
 },
 "nbformat": 4,
 "nbformat_minor": 5
}
